{
  "cells": [
    {
      "cell_type": "markdown",
      "metadata": {
        "id": "view-in-github",
        "colab_type": "text"
      },
      "source": [
        "<a href=\"https://colab.research.google.com/github/apadhikary/ERA_V2_New/blob/main/S12/run_YOLO.ipynb\" target=\"_parent\"><img src=\"https://colab.research.google.com/assets/colab-badge.svg\" alt=\"Open In Colab\"/></a>"
      ]
    },
    {
      "cell_type": "code",
      "execution_count": null,
      "metadata": {
        "id": "BmnvmmeVqv4T"
      },
      "outputs": [],
      "source": [
        "%load_ext autoreload\n",
        "%autoreload 2"
      ]
    },
    {
      "cell_type": "code",
      "execution_count": null,
      "metadata": {
        "colab": {
          "base_uri": "https://localhost:8080/"
        },
        "id": "jTXFEIl8q10g",
        "outputId": "60a3c37a-7121-4b2e-a978-dc91cbc5c39e"
      },
      "outputs": [
        {
          "name": "stdout",
          "output_type": "stream",
          "text": [
            "Loaded Modules and Models\n"
          ]
        }
      ],
      "source": [
        "# Future print function\n",
        "from __future__ import print_function\n",
        "\n",
        "# Load modules/models from EVA course\n",
        "!git clone https://github.com/DhrubaAdhikary/ERA_V2.git -q --quiet\n",
        "!mv ERA_V2/S12/* .\n",
        "!rm -rf ERA_V2/\n",
        "print(\"Loaded Modules and Models\")\n",
        "\n",
        "# # Installing latest Albumentation library\n",
        "# !pip install -U git+https://github.com/albu/albumentations -q --quiet\n",
        "# !pip install torch-lr-finder -q --quiet\n",
        "# !pip install grad-cam\n",
        "\n",
        "# For inline matplotlib plotting\n",
        "%matplotlib inline"
      ]
    },
    {
      "cell_type": "code",
      "execution_count": null,
      "metadata": {
        "id": "nvtdkmKbrAe1"
      },
      "outputs": [],
      "source": [
        "!mkdir weights"
      ]
    },
    {
      "cell_type": "code",
      "execution_count": null,
      "metadata": {
        "id": "ZPtLEPr4rWh0"
      },
      "outputs": [],
      "source": [
        "# !pip install gdown"
      ]
    },
    {
      "cell_type": "code",
      "execution_count": null,
      "metadata": {
        "id": "KqpQmKMyrvfJ"
      },
      "outputs": [],
      "source": [
        "# import gdown\n",
        "\n",
        "# url = 'https://drive.usercontent.google.com/download?id=1vRDkpAiNdqHORTUImkrpD7kK_DkCcMus&export=download&authuser=0'\n",
        "# output = 'weights.tar.gz'\n",
        "# gdown.download(url, output, quiet=False)"
      ]
    },
    {
      "cell_type": "code",
      "execution_count": null,
      "metadata": {
        "id": "-tZbvkFBr31R"
      },
      "outputs": [],
      "source": [
        "# import zipfile\n",
        "# import os\n",
        "\n",
        "# # Specify the path to your ZIP file\n",
        "# zip_file_path = '/content/weights.zip'  # Update this with the actual path of your uploaded ZIP file\n",
        "\n",
        "# # Specify the directory where you want to extract the contents\n",
        "# extract_dir = '/content/weights/'  # Update this with the desired extraction directory path\n",
        "\n",
        "# # Create the extraction directory if it doesn't exist\n",
        "# os.makedirs(extract_dir, exist_ok=True)\n",
        "\n",
        "# # Extract the contents of the ZIP file\n",
        "# with zipfile.ZipFile(zip_file_path, 'r') as zip_ref:\n",
        "#     zip_ref.extractall(extract_dir)\n",
        "\n",
        "# print(f\"Successfully extracted files to: {extract_dir}\")"
      ]
    },
    {
      "cell_type": "code",
      "execution_count": null,
      "metadata": {
        "colab": {
          "base_uri": "https://localhost:8080/"
        },
        "id": "PIlVN5UptxjM",
        "outputId": "f402374a-870d-433f-9e89-e33d4b16d29d"
      },
      "outputs": [
        {
          "name": "stdout",
          "output_type": "stream",
          "text": [
            "Drive already mounted at /content/drive; to attempt to forcibly remount, call drive.mount(\"/content/drive\", force_remount=True).\n"
          ]
        }
      ],
      "source": [
        "from google.colab import drive\n",
        "\n",
        "# Mount Google Drive\n",
        "drive.mount('/content/drive')"
      ]
    },
    {
      "cell_type": "code",
      "execution_count": null,
      "metadata": {
        "id": "YTIN5oXiuOGn"
      },
      "outputs": [],
      "source": [
        "file_path = '/content/drive/MyDrive/Colab Notebooks/yolov3-spp-ultralytics.pt'  # Update with your file path\n",
        "\n",
        "!cp \"$file_path\" ./weights/"
      ]
    },
    {
      "cell_type": "code",
      "execution_count": null,
      "metadata": {
        "colab": {
          "base_uri": "https://localhost:8080/"
        },
        "id": "MsgTRZtushob",
        "outputId": "a6b9ba70-6055-4869-cc8c-e52bf9b339ff"
      },
      "outputs": [
        {
          "name": "stdout",
          "output_type": "stream",
          "text": [
            "Namespace(epochs=2, batch_size=10, accumulate=4, cfg='cfg/yolov3-spp.cfg', data='data/smalcoco/smalcoco.data', multi_scale=False, img_size=[512], rect=False, resume=False, nosave=True, notest=False, evolve=False, bucket='', cache_images=True, weights='weights/yolov3-spp-ultralytics.pt', name='', device='', adam=False, single_cls=False)\n",
            "Using CPU\n",
            "\n",
            "2024-04-19 19:22:07.671916: E external/local_xla/xla/stream_executor/cuda/cuda_dnn.cc:9261] Unable to register cuDNN factory: Attempting to register factory for plugin cuDNN when one has already been registered\n",
            "2024-04-19 19:22:07.671986: E external/local_xla/xla/stream_executor/cuda/cuda_fft.cc:607] Unable to register cuFFT factory: Attempting to register factory for plugin cuFFT when one has already been registered\n",
            "2024-04-19 19:22:07.674287: E external/local_xla/xla/stream_executor/cuda/cuda_blas.cc:1515] Unable to register cuBLAS factory: Attempting to register factory for plugin cuBLAS when one has already been registered\n",
            "2024-04-19 19:22:09.366983: W tensorflow/compiler/tf2tensorrt/utils/py_utils.cc:38] TF-TRT Warning: Could not find TensorRT\n",
            "Run 'tensorboard --logdir=runs' to view tensorboard at http://localhost:6006/\n",
            "WARNING: smart bias initialization failure.\n",
            "WARNING: smart bias initialization failure.\n",
            "WARNING: smart bias initialization failure.\n",
            "Model Summary: 225 layers, 6.29987e+07 parameters, 6.29987e+07 gradients\n",
            "Caching labels (20 found, 0 missing, 0 empty, 0 duplicate, for 20 images): 100% 20/20 [00:00<00:00, 4930.99it/s]\n",
            "Caching images (0.0GB): 100% 20/20 [00:00<00:00, 129.13it/s]\n",
            "Caching labels (20 found, 0 missing, 0 empty, 0 duplicate, for 20 images): 100% 20/20 [00:00<00:00, 5543.26it/s]\n",
            "Caching images (0.0GB): 100% 20/20 [00:00<00:00, 85.66it/s]\n",
            "Image sizes 512 - 512 train, 512 test\n",
            "Using 2 dataloader workers\n",
            "Starting training for 2 epochs...\n",
            "\n",
            "     Epoch   gpu_mem      GIoU       obj       cls     total   targets  img_size\n",
            "/usr/lib/python3.10/multiprocessing/popen_fork.py:66: RuntimeWarning: os.fork() was called. os.fork() is incompatible with multithreaded code, and JAX is multithreaded, so this will likely lead to a deadlock.\n",
            "  self.pid = os.fork()\n",
            "       0/1        0G      1.95      1.96     0.418      4.32       115       512: 100% 2/2 [02:35<00:00, 77.77s/it]\n",
            "               Class    Images   Targets         P         R   mAP@0.5        F1:   0% 0/2 [00:00<?, ?it/s]/usr/lib/python3.10/multiprocessing/popen_fork.py:66: RuntimeWarning: os.fork() was called. os.fork() is incompatible with multithreaded code, and JAX is multithreaded, so this will likely lead to a deadlock.\n",
            "  self.pid = os.fork()\n",
            "/usr/local/lib/python3.10/dist-packages/torch/functional.py:507: UserWarning: torch.meshgrid: in an upcoming release, it will be required to pass the indexing argument. (Triggered internally at ../aten/src/ATen/native/TensorShape.cpp:3549.)\n",
            "  return _VF.meshgrid(tensors, **kwargs)  # type: ignore[attr-defined]\n",
            "               Class    Images   Targets         P         R   mAP@0.5        F1: 100% 2/2 [00:42<00:00, 21.38s/it]\n",
            "                 all        20       128       0.6     0.963     0.945     0.725\n",
            "\n",
            "     Epoch   gpu_mem      GIoU       obj       cls     total   targets  img_size\n",
            "       1/1        0G         2      1.76     0.374      4.14        85       512: 100% 2/2 [02:21<00:00, 70.98s/it]\n",
            "               Class    Images   Targets         P         R   mAP@0.5        F1: 100% 2/2 [00:40<00:00, 20.03s/it]\n",
            "                 all        20       128       0.6     0.963     0.945     0.725\n",
            "Speed: 1933.1/14.5/1947.6 ms inference/NMS/total per 512x512 image at batch-size 10\n",
            "2 epochs completed in 0.108 hours.\n",
            "\n"
          ]
        }
      ],
      "source": [
        "!python train.py --data data/smalcoco/smalcoco.data --batch 10 --cache --epochs 2 --nosave\n"
      ]
    },
    {
      "cell_type": "markdown",
      "metadata": {
        "id": "tdgSrt7uA8kL"
      },
      "source": []
    },
    {
      "cell_type": "code",
      "execution_count": null,
      "metadata": {
        "colab": {
          "background_save": true,
          "base_uri": "https://localhost:8080/"
        },
        "id": "XiuykIhdyVZ0",
        "outputId": "75f1ba89-313c-4fd9-e34f-b34dd81f2a9e"
      },
      "outputs": [
        {
          "name": "stdout",
          "output_type": "stream",
          "text": [
            "Namespace(epochs=3, batch_size=2, accumulate=4, cfg='cfg/yolov3-custom.cfg', data='/content/data/tumor/custom.data', multi_scale=False, img_size=[512], rect=False, resume=False, nosave=True, notest=False, evolve=False, bucket='', cache_images=True, weights='weights/yolov3-spp-ultralytics.pt', name='', device='', adam=False, single_cls=False)\n",
            "Using CPU\n",
            "\n",
            "2024-04-19 21:29:22.441591: E external/local_xla/xla/stream_executor/cuda/cuda_dnn.cc:9261] Unable to register cuDNN factory: Attempting to register factory for plugin cuDNN when one has already been registered\n",
            "2024-04-19 21:29:22.441665: E external/local_xla/xla/stream_executor/cuda/cuda_fft.cc:607] Unable to register cuFFT factory: Attempting to register factory for plugin cuFFT when one has already been registered\n",
            "2024-04-19 21:29:22.443526: E external/local_xla/xla/stream_executor/cuda/cuda_blas.cc:1515] Unable to register cuBLAS factory: Attempting to register factory for plugin cuBLAS when one has already been registered\n",
            "2024-04-19 21:29:24.066247: W tensorflow/compiler/tf2tensorrt/utils/py_utils.cc:38] TF-TRT Warning: Could not find TensorRT\n",
            "Run 'tensorboard --logdir=runs' to view tensorboard at http://localhost:6006/\n",
            "WARNING: smart bias initialization failure.\n",
            "WARNING: smart bias initialization failure.\n",
            "WARNING: smart bias initialization failure.\n",
            "Model Summary: 225 layers, 6.25733e+07 parameters, 6.25733e+07 gradients\n",
            "data/tumor/custom.txt\n",
            "['./data/tumor/labels/volume_7_slice_36.txt', './data/tumor/labels/volume_2_slice_38.txt', './data/tumor/labels/volume_1_slice_34.txt', './data/tumor/labels/volume_4_slice_61.txt', './data/tumor/labels/volume_2_slice_66.txt', './data/tumor/labels/volume_1_slice_46.txt', './data/tumor/labels/volume_5_slice_123.txt', './data/tumor/labels/volume_6_slice_94.txt', './data/tumor/labels/volume_6_slice_95.txt', './data/tumor/labels/volume_4_slice_73.txt', './data/tumor/labels/volume_6_slice_118.txt', './data/tumor/labels/volume_3_slice_94.txt', './data/tumor/labels/volume_1_slice_65.txt', './data/tumor/labels/volume_1_slice_59.txt', './data/tumor/labels/volume_2_slice_79.txt', './data/tumor/labels/volume_4_slice_109.txt', './data/tumor/labels/volume_4_slice_97.txt', './data/tumor/labels/volume_2_slice_52.txt', './data/tumor/labels/volume_6_slice_103.txt', './data/tumor/labels/volume_5_slice_112.txt', './data/tumor/labels/volume_2_slice_55.txt', './data/tumor/labels/volume_1_slice_75.txt', './data/tumor/labels/volume_1_slice_48.txt', './data/tumor/labels/volume_2_slice_37.txt']\n",
            "Caching labels (24 found, 0 missing, 0 empty, 0 duplicate, for 24 images): 100% 24/24 [00:00<00:00, 1093.09it/s]\n",
            "\n",
            "Caching images (0.0GB): 100% 24/24 [00:00<00:00, 680.67it/s]\n",
            "data/tumor/custom.txt\n",
            "['./data/tumor/labels/volume_7_slice_36.txt', './data/tumor/labels/volume_2_slice_38.txt', './data/tumor/labels/volume_1_slice_34.txt', './data/tumor/labels/volume_4_slice_61.txt', './data/tumor/labels/volume_2_slice_66.txt', './data/tumor/labels/volume_1_slice_46.txt', './data/tumor/labels/volume_5_slice_123.txt', './data/tumor/labels/volume_6_slice_94.txt', './data/tumor/labels/volume_6_slice_95.txt', './data/tumor/labels/volume_4_slice_73.txt', './data/tumor/labels/volume_6_slice_118.txt', './data/tumor/labels/volume_3_slice_94.txt', './data/tumor/labels/volume_1_slice_65.txt', './data/tumor/labels/volume_1_slice_59.txt', './data/tumor/labels/volume_2_slice_79.txt', './data/tumor/labels/volume_4_slice_109.txt', './data/tumor/labels/volume_4_slice_97.txt', './data/tumor/labels/volume_2_slice_52.txt', './data/tumor/labels/volume_6_slice_103.txt', './data/tumor/labels/volume_5_slice_112.txt', './data/tumor/labels/volume_2_slice_55.txt', './data/tumor/labels/volume_1_slice_75.txt', './data/tumor/labels/volume_1_slice_48.txt', './data/tumor/labels/volume_2_slice_37.txt']\n",
            "Reading image shapes: 100% 24/24 [00:00<00:00, 3384.32it/s]\n",
            "Caching labels (24 found, 0 missing, 0 empty, 0 duplicate, for 24 images): 100% 24/24 [00:00<00:00, 3995.21it/s]\n",
            "\n",
            "Caching images (0.0GB): 100% 24/24 [00:00<00:00, 1788.49it/s]\n",
            "Image sizes 512 - 512 train, 512 test\n",
            "Using 2 dataloader workers\n",
            "Starting training for 3 epochs...\n",
            "\n",
            "     Epoch   gpu_mem      GIoU       obj       cls     total   targets  img_size\n",
            "/usr/lib/python3.10/multiprocessing/popen_fork.py:66: RuntimeWarning: os.fork() was called. os.fork() is incompatible with multithreaded code, and JAX is multithreaded, so this will likely lead to a deadlock.\n",
            "  self.pid = os.fork()\n",
            "       0/2        0G      5.92       125         0       130         3       512: 100% 12/12 [03:02<00:00, 15.23s/it]\n",
            "               Class    Images   Targets         P         R   mAP@0.5        F1:   0% 0/12 [00:00<?, ?it/s]/usr/lib/python3.10/multiprocessing/popen_fork.py:66: RuntimeWarning: os.fork() was called. os.fork() is incompatible with multithreaded code, and JAX is multithreaded, so this will likely lead to a deadlock.\n",
            "  self.pid = os.fork()\n",
            "/usr/local/lib/python3.10/dist-packages/torch/functional.py:507: UserWarning: torch.meshgrid: in an upcoming release, it will be required to pass the indexing argument. (Triggered internally at ../aten/src/ATen/native/TensorShape.cpp:3549.)\n",
            "  return _VF.meshgrid(tensors, **kwargs)  # type: ignore[attr-defined]\n",
            "               Class    Images   Targets         P         R   mAP@0.5        F1: 100% 12/12 [01:04<00:00,  5.39s/it]\n",
            "                 all        24        28  0.000165     0.643  0.000502  0.000331\n",
            "\n",
            "     Epoch   gpu_mem      GIoU       obj       cls     total   targets  img_size\n",
            "       1/2        0G      5.07      40.8         0      45.9         5       512: 100% 12/12 [03:00<00:00, 15.01s/it]\n",
            "               Class    Images   Targets         P         R   mAP@0.5        F1: 100% 12/12 [01:10<00:00,  5.84s/it]\n",
            "                 all        24        28  0.000776      0.25    0.0019   0.00155\n",
            "\n",
            "     Epoch   gpu_mem      GIoU       obj       cls     total   targets  img_size\n",
            "       2/2        0G       5.1      11.2         0      16.3         4       512: 100% 12/12 [02:59<00:00, 14.98s/it]\n",
            "               Class    Images   Targets         P         R   mAP@0.5        F1: 100% 12/12 [01:04<00:00,  5.38s/it]\n",
            "                 all        24        28         0         0  0.000146         0\n",
            "3 epochs completed in 0.207 hours.\n",
            "\n"
          ]
        }
      ],
      "source": [
        "!python train.py --data /content/data/tumor/custom.data --batch 2 --cache --cfg cfg/yolov3-custom.cfg --epochs 3 --nosave"
      ]
    },
    {
      "cell_type": "code",
      "execution_count": null,
      "metadata": {
        "id": "wwbTYZ29JvSN"
      },
      "outputs": [],
      "source": []
    }
  ],
  "metadata": {
    "colab": {
      "provenance": [],
      "include_colab_link": true
    },
    "kernelspec": {
      "display_name": "Python 3",
      "name": "python3"
    },
    "language_info": {
      "name": "python"
    }
  },
  "nbformat": 4,
  "nbformat_minor": 0
}