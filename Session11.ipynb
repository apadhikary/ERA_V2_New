{
 "cells": [
  {
   "cell_type": "code",
   "execution_count": null,
   "metadata": {},
   "outputs": [],
   "source": [
    "# Load Modules\n",
    "!git clone https://github.com/apadhikary/ERA_V2_New.git \n",
    "print(\"Loaded Modules and Models\")"
   ]
  },
  {
   "cell_type": "code",
   "execution_count": null,
   "metadata": {},
   "outputs": [],
   "source": [
    "!pip install torch-lr-finder -q --quiet\n",
    "!pip install grad-cam"
   ]
  },
  {
   "cell_type": "code",
   "execution_count": null,
   "metadata": {},
   "outputs": [],
   "source": [
    "from __future__ import print_function\n",
    "# For inline matplotlib plotting\n",
    "%matplotlib inline\n",
    "from ERA_V2_New.models import *\n",
    "from ERA_V2_New.utils import *\n",
    "from ERA_V2_New.main import *"
   ]
  },
  {
   "cell_type": "code",
   "execution_count": null,
   "metadata": {},
   "outputs": [],
   "source": [
    "# Load Train and Test Dataloader\n",
    "cifar10 = dataset_cifar10(batch_size = 512)\n",
    "trainloader, testloader = cifar10.train_test_datasets()"
   ]
  },
  {
   "cell_type": "code",
   "execution_count": null,
   "metadata": {},
   "outputs": [],
   "source": [
    "# Display Sample Images\n",
    "cifar10.sample_pictures(trainloader, train_flag = True)\n",
    "classes = cifar10.classes"
   ]
  },
  {
   "cell_type": "code",
   "execution_count": null,
   "metadata": {},
   "outputs": [],
   "source": [
    "# Plotting Sample Images\n",
    "cifar10.sample_pictures(trainloader,train_flag=True)"
   ]
  },
  {
   "cell_type": "code",
   "execution_count": null,
   "metadata": {},
   "outputs": [],
   "source": [
    "# Model\n",
    "from models.resnet import *\n",
    "\n",
    "# Loading Custom Model\n",
    "net = ResNet18()\n",
    "\n",
    "# Using cuda if available\n",
    "device = torch.device(\"cuda\" if torch.cuda.is_available() else \"cpu\")\n",
    "print(device)\n",
    "\n",
    "# Sending network to device\n",
    "model = net.to(device)"
   ]
  },
  {
   "cell_type": "code",
   "execution_count": null,
   "metadata": {},
   "outputs": [],
   "source": [
    "# Model Summary\n",
    "!pip install torchsummary\n",
    "from torchsummary import summary\n",
    "\n",
    "# Model Summary\n",
    "summary(model, input_size=(3, 32, 32))"
   ]
  },
  {
   "cell_type": "code",
   "execution_count": null,
   "metadata": {},
   "outputs": [],
   "source": []
  }
 ],
 "metadata": {
  "language_info": {
   "name": "python"
  }
 },
 "nbformat": 4,
 "nbformat_minor": 2
}
