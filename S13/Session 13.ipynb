{
  "cells": [
    {
      "cell_type": "markdown",
      "metadata": {
        "id": "view-in-github",
        "colab_type": "text"
      },
      "source": [
        "<a href=\"https://colab.research.google.com/github/apadhikary/ERA_V2_New/blob/main/S13/Session%2013.ipynb\" target=\"_parent\"><img src=\"https://colab.research.google.com/assets/colab-badge.svg\" alt=\"Open In Colab\"/></a>"
      ]
    },
    {
      "cell_type": "markdown",
      "metadata": {
        "id": "yYcLpCTTdw1N"
      },
      "source": [
        "### Load Models and Modules"
      ]
    },
    {
      "cell_type": "code",
      "execution_count": null,
      "metadata": {
        "id": "rw3tDIkEdw1O"
      },
      "outputs": [],
      "source": [
        "%load_ext autoreload\n",
        "%autoreload 2"
      ]
    },
    {
      "cell_type": "code",
      "execution_count": null,
      "metadata": {
        "id": "CnBObnSjdw1P"
      },
      "outputs": [],
      "source": [
        "# Future print function\n",
        "from __future__ import print_function\n",
        "\n",
        "# Load modules/models from EVA course\n",
        "!git clone https://github.com/apadhikary/ERA_V2_New.git -q --quiet\n",
        "# !mv ERA_V2/pytorch-era2-main/* .\n",
        "# !rm -rf ERA_V2/pytorch-era2-main\n",
        "print(\"Loaded Modules and Models\")\n",
        "\n",
        "# Installing latest Albumentation library\n",
        "!pip install -U git+https://github.com/albu/albumentations -q --quiet\n",
        "!pip install torch-lr-finder -q --quiet\n",
        "!pip install grad-cam\n",
        "# !pip install pytorch-lightning-bolts\n",
        "!pip install lightning-bolts\n",
        "\n",
        "# For inline matplotlib plotting\n",
        "%matplotlib inline"
      ]
    },
    {
      "cell_type": "markdown",
      "metadata": {
        "id": "ucJs9phMdw1P"
      },
      "source": [
        "### Loading train and test data with transforms and loader functions"
      ]
    },
    {
      "cell_type": "code",
      "execution_count": null,
      "metadata": {
        "id": "EpxhHr4Mdw1P"
      },
      "outputs": [],
      "source": [
        "\n",
        "from ERA_V2_New.S13.utils import *\n",
        "from pl_bolts.datamodules import CIFAR10DataModule\n",
        "\n",
        "PATH_DATASETS = os.environ.get(\"PATH_DATASETS\", \".\")\n",
        "BATCH_SIZE = 512 if torch.cuda.is_available() else 64\n",
        "NUM_WORKERS = int(os.cpu_count() / 2)\n",
        "\n",
        "cifar10_dm = CIFAR10DataModule(\n",
        "    data_dir=PATH_DATASETS,\n",
        "    batch_size=BATCH_SIZE,\n",
        "    num_workers=NUM_WORKERS,\n",
        "    train_transforms=album_Compose_train(),\n",
        "    test_transforms=album_Compose_test(),\n",
        "    val_transforms=album_Compose_test(),\n",
        ")"
      ]
    },
    {
      "cell_type": "code",
      "execution_count": null,
      "metadata": {
        "id": "ehMYddjidw1P"
      },
      "outputs": [],
      "source": [
        "from pytorch_lightning import LightningModule, Trainer, seed_everything\n",
        "from pytorch_lightning.callbacks import LearningRateMonitor\n",
        "from pytorch_lightning.callbacks.progress import TQDMProgressBar\n",
        "from pytorch_lightning.loggers import CSVLogger\n",
        "from torch.optim.lr_scheduler import OneCycleLR\n",
        "from torch.optim.swa_utils import AveragedModel, update_bn\n",
        "from ERA_V2_New.models.custom_resnet import *\n",
        "\n",
        "model = LitCustomResnet(lr=0.01, batch_size = BATCH_SIZE)\n",
        "\n",
        "trainer = Trainer(\n",
        "    max_epochs=24,\n",
        "    accelerator=\"auto\",\n",
        "    devices=1 if torch.cuda.is_available() else None,  # limiting got iPython runs\n",
        "    logger=CSVLogger(save_dir=\"logs/\"),\n",
        "    callbacks=[LearningRateMonitor(logging_interval=\"step\"), TQDMProgressBar(refresh_rate=10)],\n",
        ")\n",
        "\n",
        "trainer.fit(model, cifar10_dm)\n",
        "trainer.test(model, datamodule=cifar10_dm)"
      ]
    },
    {
      "cell_type": "code",
      "execution_count": null,
      "metadata": {
        "id": "c8KijEtcdw1P"
      },
      "outputs": [],
      "source": [
        "import pandas as pd\n",
        "import seaborn as sn\n",
        "\n",
        "metrics = pd.read_csv(f\"{trainer.logger.log_dir}/metrics.csv\")\n",
        "del metrics[\"step\"]\n",
        "metrics.set_index(\"epoch\", inplace=True)\n",
        "display(metrics.dropna(axis=1, how=\"all\").head())\n",
        "sn.relplot(data=metrics, kind=\"line\")"
      ]
    },
    {
      "cell_type": "markdown",
      "metadata": {
        "id": "YgT_1VZ_dw1P"
      },
      "source": [
        "### Plot GradCAM Misclassified Images"
      ]
    },
    {
      "cell_type": "code",
      "execution_count": null,
      "metadata": {
        "id": "wJP3KBrVdw1P"
      },
      "outputs": [],
      "source": [
        "import torch\n",
        "plot_grad_cam_images_custom_resnet(model.model, cifar10_dm.test_dataloader(), cifar10_dm.dataset_train.dataset.classes, device=torch.device(\"cpu\"))"
      ]
    },
    {
      "cell_type": "markdown",
      "metadata": {
        "id": "BkHPWWlAdw1P"
      },
      "source": [
        "### Save the Model"
      ]
    },
    {
      "cell_type": "code",
      "execution_count": null,
      "metadata": {
        "id": "_dGVc_cjdw1P"
      },
      "outputs": [],
      "source": [
        "torch.save(model.model.state_dict(), \"custom_resnet_model.pt\")"
      ]
    },
    {
      "cell_type": "markdown",
      "metadata": {
        "id": "rCjtJX81dw1Q"
      },
      "source": [
        "### Saving Misclassified Images"
      ]
    },
    {
      "cell_type": "code",
      "execution_count": null,
      "metadata": {
        "id": "Tr8dXOErdw1Q"
      },
      "outputs": [],
      "source": [
        "!mkdir misclassfied_images\n",
        "from PIL import Image\n",
        "import numpy as np\n",
        "\n",
        "test_loader = cifar10_dm.test_dataloader()\n",
        "classes =  cifar10_dm.dataset_train.dataset.classes\n",
        "device = torch.device(\"cuda\")\n",
        "model1 = model.model.to(device)\n",
        "\n",
        "# set model to evaluation mode\n",
        "model1.eval()\n",
        "\n",
        "misclassified_images = []\n",
        "\n",
        "fig_idx = 1\n",
        "with torch.no_grad():\n",
        "    for data, target in test_loader:\n",
        "        data, target = data.to(device), target.to(device)\n",
        "        output = model1(data)\n",
        "        _, pred = torch.max(output, 1)\n",
        "        for i in range(len(pred)):\n",
        "            if pred[i] != target[i]:\n",
        "                misclassified_images.append(data[i])\n",
        "                npimg = unnormalize(data[i].cpu())\n",
        "                im = Image.fromarray((npimg*255).astype(np.uint8))\n",
        "                im.save(f\"./misclassfied_images/Target_{classes[target[i]]}_Pred_{classes[pred[i]]}_{fig_idx}.jpeg\")\n",
        "                if fig_idx > 25:\n",
        "                    break\n",
        "                fig_idx+=1\n",
        "\n",
        "\n",
        "import shutil\n",
        "\n",
        "shutil.make_archive(\"./misclassfied_images\", 'zip', \"./misclassfied_images\")"
      ]
    }
  ],
  "metadata": {
    "language_info": {
      "name": "python"
    },
    "colab": {
      "provenance": [],
      "include_colab_link": true
    }
  },
  "nbformat": 4,
  "nbformat_minor": 0
}